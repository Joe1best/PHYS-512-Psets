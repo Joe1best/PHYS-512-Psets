{
 "cells": [
  {
   "cell_type": "code",
   "execution_count": 2,
   "metadata": {},
   "outputs": [],
   "source": [
    "import numpy as np\n",
    "import matplotlib.pyplot as plt \n",
    "import random as rn"
   ]
  },
  {
   "cell_type": "code",
   "execution_count": 3,
   "metadata": {},
   "outputs": [],
   "source": [
    "class particle: \n",
    "    def __init__(self,m,x,y,vx=0,vy=0): \n",
    "        \"\"\"\n",
    "        Defines the particle. Each particle has a mass, a position and momentum\n",
    "        Inputs: \n",
    "            - m (float): mass of the particle \n",
    "            - x,y (float): x and y components respectively of the particle's position \n",
    "            - vx,vy (float): x and y components respectively of the particle's velocity\n",
    "        \"\"\"\n",
    "        self.mass = m \n",
    "        self.position = (x,y)\n",
    "        self.momentum = (self.mass*vx,self.mass*vy)\n",
    "    \n",
    "def evolve(self,position,momentum,mass,f_current,f_next,dt):\n",
    "    \"\"\"\n",
    "    Evolves the particle's position and momentum using the leap frog method seen in class\n",
    "    Inputs: \n",
    "        - f_current (array): The forces on the particle \n",
    "        - f_new (array): changed forces on the particle \n",
    "        - dt (float): time step in seconds \n",
    "    \"\"\"\n",
    "    x = position+(momentum/self.mass)*dt + 0.5*f_current*dt**2\n",
    "    v = (momentum/mass) + 0.5*(f_current+f_next)*dt\n",
    "    return x,v \n",
    "\n",
    "def calculate_dist(grid,pos):\n",
    "    \"\"\"\n",
    "    Calculates the position between a grid point and a particle's position\n",
    "    \"\"\"\n",
    "    return np.sqrt((grid[0]-pos[0])**2+(grid[1]-pos[1])**2)"
   ]
  },
  {
   "cell_type": "code",
   "execution_count": 15,
   "metadata": {},
   "outputs": [],
   "source": [
    "class system: \n",
    "    def __init__(self,npart,size,init_mass,npart_specific=None):\n",
    "        \"\"\"\n",
    "        Defines the total system of particles and puts them in a list. \n",
    "        Inputs: \n",
    "            - npast (int): total number of particles \n",
    "            - size (int): (x,y) of the size of the grid \n",
    "        \"\"\"\n",
    "        def initial_condition(size,npart,npart_specific=None): \n",
    "            \"\"\"\n",
    "            Depending on the grid size, generates random position on the grid. \n",
    "            Makes sure that the particles do not get generated on top of each other.\n",
    "            Inputs:\n",
    "                - size (array): size of grid. In the format of (x,y)\n",
    "                - npart (int): total number of particles of the system\n",
    "                - npar_specific (array): specific boundary condition pre-defined by the user\n",
    "            \"\"\"\n",
    "            init_cond = []\n",
    "            if npart_specific is None: \n",
    "                l = 0\n",
    "            else: \n",
    "                l = len(npart_specific)\n",
    "                for k in range(l):\n",
    "                    pos = (npart_specific[k][0], npart_specific[k][1])\n",
    "                    init_cond.append(pos)\n",
    "\n",
    "            for p in range(npart-l):\n",
    "                pos = (rn.random())*(size[0]-1), (rn.random())*(size[1]-1)\n",
    "                \n",
    "                init_cond.append(pos)\n",
    "                #Small code block to make sure no two particles are generated on-top \n",
    "                #of each other. Although it is highly unlikely but just to make sure \n",
    "                #j = 0 \n",
    "                #if p!=0:\n",
    "                #    while j<npart: \n",
    "                #        if init_cond[-2][0] == init_cond[-1][0] and init_cond[-2][1] == init_cond[-1][1]:\n",
    "                #            x_in, y_in =  rn.random()*size[0], rn.random*size[1]\n",
    "                #            init_cond.pop()\n",
    "                #            init_cond.append([x_in,y_in])\n",
    "                #            j = -1\n",
    "                #        else: \n",
    "                #            j += 1\n",
    "                            \n",
    "            return init_cond\n",
    "        \n",
    "        self.nparticles = npart\n",
    "        init_cond = initial_condition(size,npart,npart_specific=npart_specific)\n",
    "        self.particles = np.asarray([particle(m,x[0],x[1]) for m,x in zip(init_mass,init_cond)])   \n",
    "        self.momenta = np.asarray([self.particles[i].momentum for i in range(npart)])\n",
    "        self.pos = np.asarray([self.particles[i].position for i in range(npart)])\n",
    "        self.masses = init_mass\n",
    "        \n",
    "    def evolve_system(self,acc,acc_new,dt,size,type_p = False):\n",
    "        self.pos, self.momenta = evolve(self.pos,self.momenta,self.masses,acc,acc_new,dt)\n",
    "        if type_p == True:\n",
    "            self.pos = self.pos%(size-1)  \n",
    "        "
   ]
  },
  {
   "cell_type": "code",
   "execution_count": 108,
   "metadata": {},
   "outputs": [],
   "source": [
    "class grid: \n",
    "    def __init__(self,size,particleList,soft=0.1,G=1):\n",
    "        self.size = size\n",
    "        self.soft = soft\n",
    "        self.G = G\n",
    "        self.posP = particleList.pos\n",
    "        self.intPos = np.round(self.posP)\n",
    "        self.gridPos = self.grid_Maker(self.posP)\n",
    "        self.mass = particleList.masses\n",
    "        x, y = np.arange(size[0],dtype=float), np.arange(size[0],dtype=float)\n",
    "        self.mesh = np.array(np.meshgrid(x,y))\n",
    "        \n",
    "        # Density assignment using the Cloud-In-Cell method \n",
    "        self.density_assignment()\n",
    "\n",
    "        self.green()\n",
    "        \n",
    "        self.pot()\n",
    "    \n",
    "    def grid_Maker(self,posP):\n",
    "        \"\"\"\n",
    "        Function that generates the closest 4 gridpoints on the grid for each particle. \n",
    "        \"\"\"\n",
    "        gridPos = []\n",
    "        #top right corner grid \n",
    "        gridPos = []\n",
    "        gridPos.append(np.ceil(self.posP))  \n",
    "        #top left corner grid\n",
    "        gridPos.append(np.asarray([np.floor(self.posP[:,0]),np.ceil(self.posP[:,1])]).T) \n",
    "        #bottom right corner grid\n",
    "        gridPos.append(np.asarray([np.ceil(self.posP[:,0]),np.floor(self.posP[:,1])]).T) \n",
    "        #bottom left corner grid \n",
    "        gridPos.append(np.floor(self.posP)) \n",
    "        \n",
    "        return np.transpose(np.asarray(gridPos),axes=[1,0,-1])\n",
    "    \n",
    "    def updatePos(self,particleList):\n",
    "        self.posP = particleList.pos\n",
    "        self.intPos = np.round(self.posP)\n",
    "        self.gridPos = self.grid_Maker(self.posP)\n",
    "        self.mass = particleList.masses\n",
    "        self.gridDensity = self.density(self.posP,self.gridPos,self.mass,size) \n",
    "    \n",
    "    #Step 1: Define the density assignment function\n",
    "    def density_assignment(self):\n",
    "        \"\"\"\n",
    "        Function that assigns the density based off the CIC method (cloud-in-cell) method\n",
    "        \"\"\"\n",
    "        new_gridD = np.zeros((self.size[0],self.size[1]))\n",
    "        \n",
    "        for i in range(self.posP.shape[0]):\n",
    "            for j in range(4):\n",
    "                d = calculate_dist(self.gridPos[i,j],self.posP[i])\n",
    "                new_gridD[int(self.gridPos[i,j,0]),int(self.gridPos[i,j,1])] += self.mass[i]*(1-d/np.sqrt(2))\n",
    "        \n",
    "        self.densities = new_gridD\n",
    "    \n",
    "    #Step 2: Define the green function of the grid\n",
    "    def green(self):\n",
    "        r = np.sum(self.mesh**2,axis=0)\n",
    "        r[r<self.soft**2] = self.soft**2\n",
    "        r += self.soft**2\n",
    "        r = np.sqrt(r)\n",
    "        \n",
    "        g = 1/(4*np.pi*r)\n",
    "        \n",
    "        #To get periodicity, we flip the corners to get the same behavior around\n",
    "        h_x,h_y = self.size[0]//2, self.size[1]//2\n",
    "        \n",
    "        #For now works for square grids only\n",
    "\n",
    "        try:\n",
    "            g[h_x:, :h_y] = np.flip(g[:h_x,:h_y],axis=0)\n",
    "            g[:,h_y:] = np.flip(g[:,:h_y],axis=1)\n",
    "        except: \n",
    "            g[h_x:, :h_y+1] = np.flip(g[:h_x+1,:h_y+1],axis=0)\n",
    "            g[:,h_y:] = np.flip(g[:,:h_y+1],axis=1)\n",
    "        self.g = g\n",
    "        print(self.g.shape)\n",
    "            \n",
    "            \n",
    "    def pot(self):\n",
    "        #To get the potential, we just multiply the fourier transformed density with\n",
    "        #the fourier transformed green function\n",
    "        \n",
    "        ffD = np.fft.rfft2(self.densities)\n",
    "        ffG = np.fft.rfft2(self.g)\n",
    "        ffV = ffD*ffG\n",
    "        \n",
    "        V = np.fft.irfft2(ffV)\n",
    "        \n",
    "        #Need to shift and average the potential to center it back to particle\n",
    "        for i in range(2):\n",
    "            V = 0.5*(np.roll(V,1,axis=i)+V)\n",
    "            \n",
    "        return V \n",
    "    \n",
    "    def forces_mesh(self): \n",
    "        fmesh = np.zeros([2,self.size[0],self.size[1]])\n",
    "        \n",
    "        V = self.pot()\n",
    "        \n",
    "        #Gradient in each direction\n",
    "        for i in range(2):\n",
    "            fmesh[i] = 0.5*(np.roll(V,1,axis=i) - np.roll(V,-1,axis=i))\n",
    "    \n",
    "        fmesh *= -self.densities*self.G\n",
    "        return fmesh \n",
    "    \n",
    "    #Interpolate forces to particles\n",
    "    #def forces_pctls(self):\n",
    "        \n",
    "        \n",
    "    #    return 0"
   ]
  },
  {
   "cell_type": "code",
   "execution_count": 103,
   "metadata": {},
   "outputs": [
    {
     "name": "stdout",
     "output_type": "stream",
     "text": [
      "(500, 500)\n",
      "[[0.0005627 0.0005627 0.0005627 ... 0.0005627 0.0005627 0.0005627]\n",
      " [0.0005627 0.0005627 0.0005627 ... 0.0005627 0.0005627 0.0005627]\n",
      " [0.0005627 0.0005627 0.0005627 ... 0.0005627 0.0005627 0.0005627]\n",
      " ...\n",
      " [0.0005627 0.0005627 0.0005627 ... 0.0005627 0.0005627 0.0005627]\n",
      " [0.0005627 0.0005627 0.0005627 ... 0.0005627 0.0005627 0.0005627]\n",
      " [0.0005627 0.0005627 0.0005627 ... 0.0005627 0.0005627 0.0005627]]\n"
     ]
    },
    {
     "data": {
      "text/plain": [
       "<matplotlib.image.AxesImage at 0x1f2e4de69e8>"
      ]
     },
     "execution_count": 103,
     "metadata": {},
     "output_type": "execute_result"
    },
    {
     "data": {
      "image/png": "[encoded data removed]",
      "text/plain": [
       "<Figure size 432x288 with 1 Axes>"
      ]
     },
     "metadata": {
      "needs_background": "light"
     },
     "output_type": "display_data"
    }
   ],
   "source": [
    "npart = 2\n",
    "size = (500,500)\n",
    "init_mas = [rn.random() for t in range(npart)]\n",
    "s = system(npart,size,init_mas,npart_specific=None)\n",
    "g = grid(size,s,soft=100)\n",
    "print (g.g)\n",
    "plt.imshow(g.g)"
   ]
  },
  {
   "cell_type": "code",
   "execution_count": 10,
   "metadata": {},
   "outputs": [
    {
     "data": {
      "text/plain": [
       "[array([[10, 60],\n",
       "        [10, 60]]), array([[600, 600],\n",
       "        [900, 900]])]"
      ]
     },
     "execution_count": 10,
     "metadata": {},
     "output_type": "execute_result"
    }
   ],
   "source": [
    "np.meshgrid([10,60],[600,900])\n"
   ]
  },
  {
   "cell_type": "code",
   "execution_count": null,
   "metadata": {},
   "outputs": [],
   "source": []
  },
  {
   "cell_type": "code",
   "execution_count": null,
   "metadata": {
    "collapsed": true
   },
   "outputs": [],
   "source": []
  },
  {
   "cell_type": "code",
   "execution_count": null,
   "metadata": {},
   "outputs": [],
   "source": []
  },
  {
   "cell_type": "code",
   "execution_count": null,
   "metadata": {
    "collapsed": true
   },
   "outputs": [],
   "source": []
  }
 ],
 "metadata": {
  "kernelspec": {
   "display_name": "Python 3",
   "language": "python",
   "name": "python3"
  },
  "language_info": {
   "codemirror_mode": {
    "name": "ipython",
    "version": 3
   },
   "file_extension": ".py",
   "mimetype": "text/x-python",
   "name": "python",
   "nbconvert_exporter": "python",
   "pygments_lexer": "ipython3",
   "version": "3.7.1"
  }
 },
 "nbformat": 4,
 "nbformat_minor": 2
}
