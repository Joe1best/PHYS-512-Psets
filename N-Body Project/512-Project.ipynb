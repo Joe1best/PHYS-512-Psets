{
 "cells": [
  {
   "cell_type": "code",
   "execution_count": 6,
   "metadata": {
    "collapsed": true
   },
   "outputs": [],
   "source": [
    "import numpy as np\n",
    "import matplotlib.pyplot as plt \n",
    "import random as rn"
   ]
  },
  {
   "cell_type": "code",
   "execution_count": 30,
   "metadata": {
    "collapsed": true
   },
   "outputs": [],
   "source": [
    "class particle: \n",
    "    def __init__(self,m,x,y,vx=0,vy=0): \n",
    "        \"\"\"\n",
    "        Defines the particle. Each particle has a mass, a position and momentum\n",
    "        Inputs: \n",
    "            - m (float): mass of the particle \n",
    "            - x,y (float): x and y components respectively of the particle's position \n",
    "            - vx,vy (float): x and y components respectively of the particle's velocity\n",
    "        \"\"\"\n",
    "        self.mass = m \n",
    "        self.position = (x,y)\n",
    "        self.momentum = (self.mass*vx,self.mass*vy)\n",
    "    \n",
    "def evolve(self,position,momentum,mass,f_current,f_next,dt):\n",
    "    \"\"\"\n",
    "    Evolves the particle's position and momentum using the leap frog method seen in class\n",
    "    Inputs: \n",
    "        - f_current (array): The forces on the particle \n",
    "        - f_new (array): changed forces on the particle \n",
    "        - dt (float): time step in seconds \n",
    "    \"\"\"\n",
    "    x = position+(momentum/self.mass)*dt + 0.5*f_current*dt**2\n",
    "    v = (momentum/mass) + 0.5*(f_current+f_next)*dt\n",
    "    return x,v \n",
    "\n",
    "def calculate_dist(grid,pos):\n",
    "    \"\"\"\n",
    "    Calculates the position between a grid point and a particle's position\n",
    "    \"\"\"\n",
    "    return np.sqrt((grid[0]-pos[0])**2+(grid[1]-pos[1])**2)"
   ]
  },
  {
   "cell_type": "code",
   "execution_count": 31,
   "metadata": {
    "collapsed": true
   },
   "outputs": [],
   "source": [
    "class system: \n",
    "    def __init__(self,npart,size,init_mass,npart_specific=None):\n",
    "        \"\"\"\n",
    "        Defines the total system of particles and puts them in a list. \n",
    "        Inputs: \n",
    "            - npast (int): total number of particles \n",
    "            - size (int): (x,y) of the size of the grid \n",
    "        \"\"\"\n",
    "        def initial_condition(size,npart,npart_specific=None): \n",
    "            \"\"\"\n",
    "            Depending on the grid size, generates random position on the grid. \n",
    "            Makes sure that the particles do not get generated on top of each other.\n",
    "            Inputs:\n",
    "                - size (array): size of grid. In the format of (x,y)\n",
    "                - npart (int): total number of particles of the system\n",
    "                - npar_specific (array): specific boundary condition pre-defined by the user\n",
    "            \"\"\"\n",
    "            init_cond = []\n",
    "            if npart_specific is None: \n",
    "                l = 0\n",
    "            else: \n",
    "                l = len(npart_specific)\n",
    "                for k in range(l):\n",
    "                    pos = (npart_specific[k][0], npart_specific[k][1])\n",
    "                    init_cond.append(pos)\n",
    "\n",
    "            for p in range(npart-l):\n",
    "                pos = (rn.random())*(size[0]-1), (rn.random())*(size[1]-1)\n",
    "                \n",
    "                init_cond.append(pos)\n",
    "                #Small code block to make sure no two particles are generated on-top \n",
    "                #of each other. Although it is highly unlikely but just to make sure \n",
    "                j = 0 \n",
    "                if p!=0:\n",
    "                    while j<npart: \n",
    "                        if init_cond[-2][0] == init_cond[-1][0] and init_cond[-2][1] == init_cond[-1][1]:\n",
    "                            x_in, y_in =  rn.random()*size[0], rn.random*size[1]\n",
    "                            init_cond.pop()\n",
    "                            init_cond.append([x_in,y_in])\n",
    "                            j = -1\n",
    "                        else: \n",
    "                            j += 1\n",
    "                            \n",
    "            return init_cond\n",
    "        \n",
    "        self.nparticles = npart\n",
    "        init_cond = initial_condition(size,npart,npart_specific=npart_specific)\n",
    "        self.particles = np.asarray([particle(m,x[0],x[1]) for m,x in zip(init_mass,init_cond)])   \n",
    "        self.momenta = np.asarray([self.particles[i].momentum for i in range(npart)])\n",
    "        self.pos = np.asarray([self.particles[i].position for i in range(npart)])\n",
    "        self.masses = init_mass\n",
    "        \n",
    "    def evolve_system(self,acc,acc_new,dt,size,type_p = False):\n",
    "        self.pos, self.momenta = evolve(self.pos,self.momenta,self.masses,acc,acc_new,dt)\n",
    "        if type_p == True:\n",
    "            self.pos = self.pos%(size-1)  "
   ]
  },
  {
   "cell_type": "code",
   "execution_count": 32,
   "metadata": {},
   "outputs": [],
   "source": [
    "class grid: \n",
    "    def __init__(self,size,particleList):\n",
    "        self.posP = particleList.pos\n",
    "        self.intPos = np.round(self.posP)\n",
    "        self.gridPos = self.grid_Maker(self.posP)\n",
    "        self.mass = particleList.masses\n",
    "        self.densities = self.density_assignment(self.posP,self.gridPos,self.mass,size)\n",
    "    \n",
    "    def grid_Maker(self,posP):\n",
    "        \"\"\"\n",
    "        Function that generates the closest 4 gridpoints on the grid for each particle. \n",
    "        \"\"\"\n",
    "        gridPos = []\n",
    "        #top right corner grid \n",
    "        gridPos = []\n",
    "        gridPos.append(np.ceil(self.posP))  \n",
    "        #top left corner grid\n",
    "        gridPos.append(np.asarray([np.floor(self.posP[:,0]),np.ceil(self.posP[:,1])]).T) \n",
    "        #bottom right corner grid\n",
    "        gridPos.append(np.asarray([np.ceil(self.posP[:,0]),np.floor(self.posP[:,1])]).T) \n",
    "        #bottom left corner grid \n",
    "        gridPos.append(np.floor(self.posP)) \n",
    "        \n",
    "        return np.transpose(np.asarray(gridPos),axes=[1,0,-1])\n",
    "    \n",
    "    def updatePos(self,particleList):\n",
    "        self.posP = particleList.pos\n",
    "        self.intPos = np.round(self.posP)\n",
    "        self.gridPos = self.grid_Maker(self.posP)\n",
    "        self.mass = particleList.masses\n",
    "        self.gridDensity = self.density(self.posP,self.gridPos,self.mass,size) \n",
    "\n",
    "    \n",
    "        \n",
    "    def density_assignment(self,posP,gridPos,mass,size):\n",
    "        \"\"\"\n",
    "        Function that assigns the density based off the CIC method (cloud-in-cell) method\n",
    "        \"\"\"\n",
    "        new_gridD = np.zeros((size[0],size[1]))\n",
    "        \n",
    "        for i in range(posP.shape[0]):\n",
    "            for j in range(4):\n",
    "                d = calculate_dist(gridPos[i,j],posP[i])\n",
    "                new_gridD[int(gridPos[i,j,0]),int(gridPos[i,j,1])] += mass[i]*(1-d/np.sqrt(2))\n",
    "        \n",
    "        return new_gridD"
   ]
  },
  {
   "cell_type": "code",
   "execution_count": 34,
   "metadata": {},
   "outputs": [],
   "source": [
    "npart = 2\n",
    "size = (4,4)\n",
    "init_mas = [rn.random() for t in range(npart)]\n",
    "s = system(npart,size,init_mas,npart_specific=None)\n",
    "g = grid(size,s)"
   ]
  },
  {
   "cell_type": "code",
   "execution_count": null,
   "metadata": {},
   "outputs": [],
   "source": [
    "\n"
   ]
  },
  {
   "cell_type": "code",
   "execution_count": null,
   "metadata": {},
   "outputs": [],
   "source": []
  },
  {
   "cell_type": "code",
   "execution_count": null,
   "metadata": {
    "collapsed": true
   },
   "outputs": [],
   "source": []
  },
  {
   "cell_type": "code",
   "execution_count": null,
   "metadata": {},
   "outputs": [],
   "source": []
  },
  {
   "cell_type": "code",
   "execution_count": null,
   "metadata": {
    "collapsed": true
   },
   "outputs": [],
   "source": []
  }
 ],
 "metadata": {
  "kernelspec": {
   "display_name": "Python 3",
   "language": "python",
   "name": "python3"
  },
  "language_info": {
   "codemirror_mode": {
    "name": "ipython",
    "version": 3
   },
   "file_extension": ".py",
   "mimetype": "text/x-python",
   "name": "python",
   "nbconvert_exporter": "python",
   "pygments_lexer": "ipython3",
   "version": "3.6.2"
  }
 },
 "nbformat": 4,
 "nbformat_minor": 2
}
