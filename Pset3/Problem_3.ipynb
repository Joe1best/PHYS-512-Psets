{
 "cells": [
  {
   "cell_type": "code",
   "execution_count": 23,
   "metadata": {},
   "outputs": [],
   "source": [
    "import numpy as np\n",
    "import matplotlib.pyplot as plt\n",
    "from CAMB import camb"
   ]
  },
  {
   "cell_type": "code",
   "execution_count": 24,
   "metadata": {},
   "outputs": [],
   "source": [
    "wmap = np.loadtxt('Intensity.txt')"
   ]
  },
  {
   "cell_type": "code",
   "execution_count": 25,
   "metadata": {},
   "outputs": [],
   "source": [
    "#Copied the spectrum function written by Prof. Sievers\n",
    "def get_spectrum(pars,lmax=2000,fixed_Tau=None):\n",
    "    if fixed_Tau is None:\n",
    "        H0=pars[0]\n",
    "        ombh2=pars[1]\n",
    "        omch2=pars[2]\n",
    "        tau=pars[3]\n",
    "        As=pars[4]\n",
    "        ns=pars[5]\n",
    "    else: \n",
    "        H0=pars[0]\n",
    "        ombh2=pars[1]\n",
    "        omch2=pars[2]\n",
    "        tau=fixed_Tau\n",
    "        As=pars[3]\n",
    "        ns=pars[4]\n",
    "    pars=camb.CAMBparams()\n",
    "    pars.set_cosmology(H0=H0,ombh2=ombh2,omch2=omch2,mnu=0.06,omk=0,tau=tau)\n",
    "    pars.InitPower.set_params(As=As,ns=ns,r=0)\n",
    "    pars.set_for_lmax(lmax,lens_potential_accuracy=0)\n",
    "    results=camb.get_results(pars)\n",
    "    powers=results.get_cmb_power_spectra(pars,CMB_unit='muK')\n",
    "    cmb=powers['total']\n",
    "    tt=cmb[:,0]    #you could return the full power spectrum here if you wanted to do say EE\n",
    "    return tt"
   ]
  },
  {
   "cell_type": "code",
   "execution_count": 38,
   "metadata": {},
   "outputs": [],
   "source": [
    "class MCMC: \n",
    "    def take_step_cov(self,covmat):\n",
    "        mychol = np.linalg.cholesky(covmat)\n",
    "        return np.dot(mychol,np.random.randn(covmat.shape[0]))\n",
    "    \n",
    "    \n",
    "    def run_chain(self,x,y,p,errP,nstep,pcov):\n",
    "        j = 0\n",
    "        chains = np.zeros([nstep,len(p)])\n",
    "        chisqvec = np.zeros(nstep)\n",
    "        chisq = np.sum((x-y(p)[2:len(x)+2])**2/errP**2)\n",
    "        scale_fac = 0.5\n",
    "        for i in range(nstep):\n",
    "            new_p = p + self.take_step_cov(pcov)*scale_fac\n",
    "            if new_p[3]>0:\n",
    "                new_m = y(new_p)[2:len(x)+2]\n",
    "                new_chisq = np.sum((x-new_m)**2/errP**2)\n",
    "\n",
    "                cond = new_chisq - chisq\n",
    "                prob = np.exp(-0.5*cond)\n",
    "                accept = np.random.rand(1)<prob\n",
    "                if accept:\n",
    "                    j+=1\n",
    "                    p = new_p \n",
    "                    m = new_m\n",
    "                    chisq = new_chisq\n",
    "            chains[i,:] = p\n",
    "            chisqvec[i] = chisq\n",
    "        return chains,chisqvec,p"
   ]
  },
  {
   "cell_type": "code",
   "execution_count": 39,
   "metadata": {},
   "outputs": [],
   "source": [
    "#Defined from the previous question \n",
    "pcov = np.asarray([[8.27963540e+00,1.38059605e-03,-1.50966395e-02,2.31683686e-01,8.17793756e-10,4.25805390e-02],[1.38059605e-03,4.47664949e-07,-1.64546691e-06,5.76110907e-05,2.19546969e-13,1.10298580e-05]\n",
    " ,[-1.50966395e-02,-1.64546691e-06,3.43333369e-05,-3.77088120e-04,-1.24887877e-12,-6.36488736e-05],[2.31683686e-01,5.76110907e-05,-3.77088120e-04,2.07377984e-02,7.84029301e-11,1.80406820e-03]\n",
    " ,[8.17793756e-10,2.19546969e-13,-1.24887877e-12,7.84029301e-11,2.97761352e-19,6.77396391e-12],[4.25805390e-02,1.10298580e-05,-6.36488736e-05,1.80406820e-03,6.77396391e-12,3.40209983e-04]])"
   ]
  },
  {
   "cell_type": "code",
   "execution_count": null,
   "metadata": {},
   "outputs": [],
   "source": [
    "pars=np.asarray([65,0.02,0.1,0.05,2e-9,0.96]) \n",
    "mcmc = MCMC()\n",
    "c,chi,p=mcmc.run_chain(wmap[:,1],get_spectrum,pars,wmap[:,2],5000,pcov)"
   ]
  },
  {
   "cell_type": "code",
   "execution_count": 87,
   "metadata": {},
   "outputs": [],
   "source": [
    "file_name = 'MCMC_results_chain.txt'\n",
    "file_name_1 = 'MCMC_results_chi.txt'\n",
    "file_name_2 = 'MCMC_results_params.txt'\n",
    "np.savetxt(file_name,c)\n",
    "np.savetxt(file_name_1,chi)\n",
    "np.savetxt(file_name_2,p)"
   ]
  }
 ],
 "metadata": {
  "kernelspec": {
   "display_name": "Python 3",
   "language": "python",
   "name": "python3"
  },
  "language_info": {
   "codemirror_mode": {
    "name": "ipython",
    "version": 3
   },
   "file_extension": ".py",
   "mimetype": "text/x-python",
   "name": "python",
   "nbconvert_exporter": "python",
   "pygments_lexer": "ipython3",
   "version": "3.7.1"
  }
 },
 "nbformat": 4,
 "nbformat_minor": 2
}
