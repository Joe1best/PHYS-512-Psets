{
 "cells": [
  {
   "cell_type": "code",
   "execution_count": 2,
   "metadata": {},
   "outputs": [],
   "source": [
    "import numpy as np\n",
    "import matplotlib.pyplot as plt\n",
    "from CAMB import camb"
   ]
  },
  {
   "cell_type": "code",
   "execution_count": 113,
   "metadata": {},
   "outputs": [],
   "source": [
    "#Loading in data\n",
    "wmap = np.loadtxt('Intensity.txt')\n",
    "multipoleIndex = wmap[:,0]\n",
    "PP = wmap[:,1]\n",
    "errPP = wmap[:,2]\n",
    "errInst = wmap[:,3]\n",
    "errCos = wmap[:,4]\n",
    "pars = [multipoleIndex,PP,errPP,errInst,errCos]\n",
    "\n",
    "pars=np.asarray([65,0.02,0.1,0.05,2e-9,0.96])\n",
    "cmb=get_spectrum(pars)\n",
    "\n",
    "#Truncated the spectrum array to ignore the first 2 data since\n",
    "#those are equal to 0 \n",
    "cmb = cmb[2:len(multipoleIndex)+2]"
   ]
  },
  {
   "cell_type": "markdown",
   "metadata": {},
   "source": [
    "Below, we defined the spectrum that will be the result of the above parameters"
   ]
  },
  {
   "cell_type": "code",
   "execution_count": 114,
   "metadata": {},
   "outputs": [],
   "source": [
    "#Spectrum defined by Prof. Sievers \n",
    "def get_spectrum(pars,lmax=2000):\n",
    "    H0=pars[0]\n",
    "    ombh2=pars[1]\n",
    "    omch2=pars[2]\n",
    "    tau=pars[3]\n",
    "    As=pars[4]\n",
    "    ns=pars[5]\n",
    "    pars=camb.CAMBparams()\n",
    "    pars.set_cosmology(H0=H0,ombh2=ombh2,omch2=omch2,mnu=0.06,omk=0,tau=tau)\n",
    "    pars.InitPower.set_params(As=As,ns=ns,r=0)\n",
    "    pars.set_for_lmax(lmax,lens_potential_accuracy=0)\n",
    "    results=camb.get_results(pars)\n",
    "    powers=results.get_cmb_power_spectra(pars,CMB_unit='muK')\n",
    "    cmb=powers['total']\n",
    "    tt=cmb[:,0]    #you could return the full power spectrum here if you wanted to do say EE\n",
    "    return tt\n",
    "#------------------------------------------#\n",
    "\n",
    "#Chi squared calculation for Problem 1\n",
    "def chi_squared(x,y,error):\n",
    "    if len(x) != len(y):\n",
    "        print (\"Cannot calculate chi-squared since the data arrays dont match...existing\")\n",
    "        return 0\n",
    "    else: \n",
    "        data = np.asarray(x)\n",
    "        fit = np.asarray(y)\n",
    "        error = np.asarray(error)\n",
    "        return sum((data-fit)**2/error**2)"
   ]
  },
  {
   "cell_type": "code",
   "execution_count": 115,
   "metadata": {},
   "outputs": [
    {
     "name": "stdout",
     "output_type": "stream",
     "text": [
      "1588.2376532931519\n"
     ]
    }
   ],
   "source": [
    "chi_sq = chi_squared(PP,cmb,errPP)\n",
    "print (chi_sq)"
   ]
  },
  {
   "cell_type": "markdown",
   "metadata": {},
   "source": [
    "The $\\chi^2$ for the model chosen is found to be equal to 1588.2377, assuming Gaussian, uncorrelated errors, which was given in the third column of the dataset."
   ]
  }
 ],
 "metadata": {
  "kernelspec": {
   "display_name": "Python 3",
   "language": "python",
   "name": "python3"
  },
  "language_info": {
   "codemirror_mode": {
    "name": "ipython",
    "version": 3
   },
   "file_extension": ".py",
   "mimetype": "text/x-python",
   "name": "python",
   "nbconvert_exporter": "python",
   "pygments_lexer": "ipython3",
   "version": "3.7.1"
  }
 },
 "nbformat": 4,
 "nbformat_minor": 2
}
