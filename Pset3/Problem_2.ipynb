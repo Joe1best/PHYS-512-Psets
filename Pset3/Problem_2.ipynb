{
 "cells": [
  {
   "cell_type": "code",
   "execution_count": 17,
   "metadata": {},
   "outputs": [],
   "source": [
    "import numpy as np\n",
    "import matplotlib.pyplot as plt\n",
    "from CAMB import camb"
   ]
  },
  {
   "cell_type": "code",
   "execution_count": 18,
   "metadata": {},
   "outputs": [],
   "source": [
    "def get_spectrum(pars,lmax=2000):\n",
    "    H0=pars[0]\n",
    "    ombh2=pars[1]\n",
    "    omch2=pars[2]\n",
    "    tau=pars[3]\n",
    "    As=pars[4]\n",
    "    ns=pars[5]\n",
    "    pars=camb.CAMBparams()\n",
    "    pars.set_cosmology(H0=H0,ombh2=ombh2,omch2=omch2,mnu=0.06,omk=0,tau=tau)\n",
    "    pars.InitPower.set_params(As=As,ns=ns,r=0)\n",
    "    pars.set_for_lmax(lmax,lens_potential_accuracy=0)\n",
    "    results=camb.get_results(pars)\n",
    "    powers=results.get_cmb_power_spectra(pars,CMB_unit='muK')\n",
    "    cmb=powers['total']\n",
    "    tt=cmb[:,0]    #you could return the full power spectrum here if you wanted to do say EE\n",
    "    return tt"
   ]
  },
  {
   "cell_type": "code",
   "execution_count": 19,
   "metadata": {},
   "outputs": [],
   "source": [
    "opticalDepth = 0.05"
   ]
  },
  {
   "cell_type": "code",
   "execution_count": null,
   "metadata": {},
   "outputs": [],
   "source": [
    "def derivative(x,y,p,dx):\n",
    "    \"\"\"\n",
    "    Takes the derivative of the function y (which is the spectrum) in terms \n",
    "    of each of its parameters. This is done by varying each parameter by\n",
    "    a certain dx defined below. \n",
    "    \"\"\"\n",
    "    grad = np.zeros([len(x),len(p)])\n",
    "    p_dx = p.copy()\n",
    "    for i in range(ln(p)):\n",
    "        d_p = p_dx[i]*dx #small change in the parameter in question\n",
    "        p_dx[i] = p_dx[i] + d_p #Adding that small change to the parameter\n",
    "        spect_dx = get_spectrum(x,y,p_dx)[2:len(x)+2]\n",
    "        p_dx[i] = p_dx[i] - 2*dx #small change int the other direction\n",
    "        spect_dx_2 = get_spectrum(x,y,p_dx)[2:len(x)+2]\n",
    "        deriv = (spect_dx-spect_dx_2)/(2*dx)\n",
    "        grad[:,i] = np.asarray(deriv)\n",
    "    return grad\n",
    "            \n",
    "def newton_Method():\n",
    "    \n",
    "    return 0"
   ]
  }
 ],
 "metadata": {
  "kernelspec": {
   "display_name": "Python 3",
   "language": "python",
   "name": "python3"
  },
  "language_info": {
   "codemirror_mode": {
    "name": "ipython",
    "version": 3
   },
   "file_extension": ".py",
   "mimetype": "text/x-python",
   "name": "python",
   "nbconvert_exporter": "python",
   "pygments_lexer": "ipython3",
   "version": "3.7.1"
  }
 },
 "nbformat": 4,
 "nbformat_minor": 2
}
