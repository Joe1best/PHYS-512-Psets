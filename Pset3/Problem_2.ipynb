{
 "cells": [
  {
   "cell_type": "code",
   "execution_count": 17,
   "metadata": {},
   "outputs": [],
   "source": [
    "import numpy as np\n",
    "import matplotlib.pyplot as plt\n",
    "from CAMB import camb"
   ]
  },
  {
   "cell_type": "code",
   "execution_count": 23,
   "metadata": {},
   "outputs": [],
   "source": [
    "wmap = np.loadtxt('Intensity.txt')"
   ]
  },
  {
   "cell_type": "code",
   "execution_count": 52,
   "metadata": {},
   "outputs": [],
   "source": [
    "def get_spectrum(pars,lmax=2000,fixed_Tau=None):\n",
    "    if fixed_Tau is None:\n",
    "        H0=pars[0]\n",
    "        ombh2=pars[1]\n",
    "        omch2=pars[2]\n",
    "        tau=pars[3]\n",
    "        As=pars[4]\n",
    "        ns=pars[5]\n",
    "    else: \n",
    "        H0=pars[0]\n",
    "        ombh2=pars[1]\n",
    "        omch2=pars[2]\n",
    "        tau=fixed_Tau\n",
    "        As=pars[3]\n",
    "        ns=pars[4]\n",
    "    pars=camb.CAMBparams()\n",
    "    pars.set_cosmology(H0=H0,ombh2=ombh2,omch2=omch2,mnu=0.06,omk=0,tau=tau)\n",
    "    pars.InitPower.set_params(As=As,ns=ns,r=0)\n",
    "    pars.set_for_lmax(lmax,lens_potential_accuracy=0)\n",
    "    results=camb.get_results(pars)\n",
    "    powers=results.get_cmb_power_spectra(pars,CMB_unit='muK')\n",
    "    cmb=powers['total']\n",
    "    tt=cmb[:,0]    #you could return the full power spectrum here if you wanted to do say EE\n",
    "    return tt"
   ]
  },
  {
   "cell_type": "code",
   "execution_count": 41,
   "metadata": {},
   "outputs": [],
   "source": [
    "opticalDepth = 0.05"
   ]
  },
  {
   "cell_type": "code",
   "execution_count": 154,
   "metadata": {},
   "outputs": [],
   "source": [
    "def derivative(x,y,p,dx,fixed_Tau=None):\n",
    "    \"\"\"\n",
    "    Takes the derivative of the function y (which is the spectrum) in terms \n",
    "    of each of its parameters. This is done by varying each parameter by\n",
    "    a certain dx defined below. \n",
    "    \"\"\"\n",
    "    grad = np.zeros([len(x),len(p)])\n",
    "    p_dx = p.copy()\n",
    "    for i in range(len(p)):\n",
    "        d_p = p_dx[i]*dx #small change in the parameter in question\n",
    "        p_dx[i] = p_dx[i] + d_p #Adding that small change to the parameter\n",
    "        spect_dx = y(p_dx)[2:len(x)+2]\n",
    "        \n",
    "        p_dx[i] = p_dx[i] - 2*d_p #small change int the other direction\n",
    "        spect_dx_2 = y(p_dx)[2:len(x)+2]\n",
    "        \n",
    "        deriv = (spect_dx-spect_dx_2)/(2*d_p)\n",
    "        grad[:,i] = np.asarray(deriv)\n",
    "        p_dx = p.copy()\n",
    "    return grad\n",
    "\n",
    "def newton_Method(x,y,p,g,errP):\n",
    "    chi_sqr = 10000\n",
    "    l = 0.0001\n",
    "    for j in range(300):\n",
    "        guessing = y(p)[2:len(x)+2]\n",
    "        residual = x - guessing\n",
    "        chi_sqr_new = (residual**2/errP**2).sum()\n",
    "        cond = chi_sqr - chi_sqr_new\n",
    "        if cond<0.001 and cond>0:\n",
    "            N = np.diag(errP**2)\n",
    "            cov = np.dot(g.transpose(),N)\n",
    "            cov = np.dot(cov,g)\n",
    "            cov = np.linalg.inv(cov)\n",
    "            err = np.sqrt(np.diag(cov))\n",
    "            break\n",
    "        elif chi_sqr_new > chi_sqr: \n",
    "            l = 5*l\n",
    "            print (\"Chi-squared got bigger, I just increased Lambda!\")\n",
    "        else:\n",
    "            chi_sqr = chi_sqr_new\n",
    "            l = l/3\n",
    "            \n",
    "        residual = np.matrix(residual).transpose()    \n",
    "        lhs = g.transpose()*g\n",
    "        lhs += l*np.diagonal(lhs)\n",
    "        rhs = g.transpose()*residual\n",
    "        changeP = np.linalg.inv(lhs)*rhs\n",
    "        print (changeP,len(p))\n",
    "        for k in range(len(p)):\n",
    "            p[k] = p[k] + changeP[k]\n",
    "        print (f\"We are currently in iteration {j}; the chi-squared is {chi_sqr}\")\n",
    "    return p,cov,err"
   ]
  },
  {
   "cell_type": "code",
   "execution_count": 155,
   "metadata": {},
   "outputs": [],
   "source": [
    "tau = opticalDepth\n",
    "pars=np.asarray([65,0.02,0.1,2e-9,0.96])"
   ]
  },
  {
   "cell_type": "code",
   "execution_count": 140,
   "metadata": {},
   "outputs": [],
   "source": [
    "fit = lambda pars: get_spectrum(pars,fixed_Tau=tau) \n",
    "g = derivative(wmap[:,1],fit,pars,0.001)\n",
    "g = np.matrix(g)"
   ]
  },
  {
   "cell_type": "code",
   "execution_count": 142,
   "metadata": {},
   "outputs": [
    {
     "name": "stdout",
     "output_type": "stream",
     "text": [
      "We are currently in iteration 0; the chi-squared is 1588.2376532931526\n",
      "We are currently in iteration 1; the chi-squared is 1245.7982925681285\n",
      "We are currently in iteration 2; the chi-squared is 1241.880377445329\n",
      "We are currently in iteration 3; the chi-squared is 1241.6502266229793\n",
      "We are currently in iteration 4; the chi-squared is 1241.6346290193499\n"
     ]
    }
   ],
   "source": [
    "p, pcov, err = newton_Method(wmap[:,1],PP,pars,g,wmap[:,2])"
   ]
  },
  {
   "cell_type": "code",
   "execution_count": 143,
   "metadata": {},
   "outputs": [
    {
     "name": "stdout",
     "output_type": "stream",
     "text": [
      "[7.20845448e+01 2.33380399e-02 1.05405737e-01 1.99999977e-09\n",
      " 9.98017981e-01]\n",
      "[1.29502500e-05 4.52375377e-09 3.07023097e-08 1.72038287e-16\n",
      " 6.63880144e-08]\n"
     ]
    }
   ],
   "source": [
    "print (p)\n",
    "print (err)"
   ]
  },
  {
   "cell_type": "markdown",
   "metadata": {},
   "source": [
    "The hubble constant $H_o$ was found to be equal to $72.08454$ $\\pm$ $0.00001$, the physical baryon density to be $0.023$ $\\pm$ $4.5\\times 10^{-9}$, the cold dark matter density to be $0.1054$ $\\pm$ $3\\times 10^{-8}$, the primordial power law to be $1.999\\times 10^{-9}$ $\\pm$ $2\\times 10^{-16}$, and finally the slope of the primordial law to be $0.998$ $\\pm$ $\\times 10^{-8}$"
   ]
  },
  {
   "cell_type": "code",
   "execution_count": 156,
   "metadata": {},
   "outputs": [
    {
     "name": "stdout",
     "output_type": "stream",
     "text": [
      "[[ 1.11140906e-03]\n",
      " [ 4.14648441e-07]\n",
      " [-6.14364574e-07]\n",
      " [-1.85943383e-18]\n",
      " [ 7.93665401e-06]] 1\n",
      "We are currently in iteration 0; the chi-squared is 1241.633863919817\n",
      "[[ 4.87306823e-01]\n",
      " [ 6.58929472e-05]\n",
      " [-8.23742621e-04]\n",
      " [-5.82688397e-18]\n",
      " [ 2.62933613e-03]] 1\n",
      "We are currently in iteration 1; the chi-squared is 1241.5217195813066\n",
      "Chi-squared got bigger, I just increased Lambda!\n",
      "[[ 1.36166642e+02]\n",
      " [ 1.89379540e-02]\n",
      " [-2.30971850e-01]\n",
      " [-4.75850892e-18]\n",
      " [ 7.61629173e-01]] 1\n",
      "We are currently in iteration 2; the chi-squared is 1241.5217195813066\n"
     ]
    },
    {
     "ename": "CAMBError",
     "evalue": "Error in Fortran called from calc_transfer:\nReionization did not converge to optical depth",
     "output_type": "error",
     "traceback": [
      "\u001b[1;31m---------------------------------------------------------------------------\u001b[0m",
      "\u001b[1;31mCAMBError\u001b[0m                                 Traceback (most recent call last)",
      "\u001b[1;32m<ipython-input-156-6f9b41ba69cd>\u001b[0m in \u001b[0;36m<module>\u001b[1;34m\u001b[0m\n\u001b[0;32m      1\u001b[0m \u001b[0mfit_tau\u001b[0m \u001b[1;33m=\u001b[0m \u001b[1;32mlambda\u001b[0m \u001b[0mtau\u001b[0m\u001b[1;33m:\u001b[0m \u001b[0mget_spectrum\u001b[0m\u001b[1;33m(\u001b[0m\u001b[0mp\u001b[0m\u001b[1;33m,\u001b[0m\u001b[0mfixed_Tau\u001b[0m\u001b[1;33m=\u001b[0m\u001b[0mtau\u001b[0m\u001b[1;33m)\u001b[0m\u001b[1;33m\u001b[0m\u001b[1;33m\u001b[0m\u001b[0m\n\u001b[1;32m----> 2\u001b[1;33m \u001b[0mnew_tau\u001b[0m\u001b[1;33m,\u001b[0m \u001b[0mnew_tau_cov\u001b[0m\u001b[1;33m,\u001b[0m\u001b[0mnew_tau_error\u001b[0m \u001b[1;33m=\u001b[0m \u001b[0mnewton_Method\u001b[0m\u001b[1;33m(\u001b[0m\u001b[0mwmap\u001b[0m\u001b[1;33m[\u001b[0m\u001b[1;33m:\u001b[0m\u001b[1;33m,\u001b[0m\u001b[1;36m1\u001b[0m\u001b[1;33m]\u001b[0m\u001b[1;33m,\u001b[0m\u001b[0mfit_tau\u001b[0m\u001b[1;33m,\u001b[0m\u001b[0mnp\u001b[0m\u001b[1;33m.\u001b[0m\u001b[0masarray\u001b[0m\u001b[1;33m(\u001b[0m\u001b[1;33m[\u001b[0m\u001b[0mtau\u001b[0m\u001b[1;33m]\u001b[0m\u001b[1;33m)\u001b[0m\u001b[1;33m,\u001b[0m\u001b[0mg\u001b[0m\u001b[1;33m,\u001b[0m\u001b[0mwmap\u001b[0m\u001b[1;33m[\u001b[0m\u001b[1;33m:\u001b[0m\u001b[1;33m,\u001b[0m\u001b[1;36m2\u001b[0m\u001b[1;33m]\u001b[0m\u001b[1;33m)\u001b[0m\u001b[1;33m\u001b[0m\u001b[1;33m\u001b[0m\u001b[0m\n\u001b[0m",
      "\u001b[1;32m<ipython-input-154-2489a5b9d442>\u001b[0m in \u001b[0;36mnewton_Method\u001b[1;34m(x, y, p, g, errP)\u001b[0m\n\u001b[0;32m     24\u001b[0m     \u001b[0ml\u001b[0m \u001b[1;33m=\u001b[0m \u001b[1;36m0.0001\u001b[0m\u001b[1;33m\u001b[0m\u001b[1;33m\u001b[0m\u001b[0m\n\u001b[0;32m     25\u001b[0m     \u001b[1;32mfor\u001b[0m \u001b[0mj\u001b[0m \u001b[1;32min\u001b[0m \u001b[0mrange\u001b[0m\u001b[1;33m(\u001b[0m\u001b[1;36m300\u001b[0m\u001b[1;33m)\u001b[0m\u001b[1;33m:\u001b[0m\u001b[1;33m\u001b[0m\u001b[1;33m\u001b[0m\u001b[0m\n\u001b[1;32m---> 26\u001b[1;33m         \u001b[0mguessing\u001b[0m \u001b[1;33m=\u001b[0m \u001b[0my\u001b[0m\u001b[1;33m(\u001b[0m\u001b[0mp\u001b[0m\u001b[1;33m)\u001b[0m\u001b[1;33m[\u001b[0m\u001b[1;36m2\u001b[0m\u001b[1;33m:\u001b[0m\u001b[0mlen\u001b[0m\u001b[1;33m(\u001b[0m\u001b[0mx\u001b[0m\u001b[1;33m)\u001b[0m\u001b[1;33m+\u001b[0m\u001b[1;36m2\u001b[0m\u001b[1;33m]\u001b[0m\u001b[1;33m\u001b[0m\u001b[1;33m\u001b[0m\u001b[0m\n\u001b[0m\u001b[0;32m     27\u001b[0m         \u001b[0mresidual\u001b[0m \u001b[1;33m=\u001b[0m \u001b[0mx\u001b[0m \u001b[1;33m-\u001b[0m \u001b[0mguessing\u001b[0m\u001b[1;33m\u001b[0m\u001b[1;33m\u001b[0m\u001b[0m\n\u001b[0;32m     28\u001b[0m         \u001b[0mchi_sqr_new\u001b[0m \u001b[1;33m=\u001b[0m \u001b[1;33m(\u001b[0m\u001b[0mresidual\u001b[0m\u001b[1;33m**\u001b[0m\u001b[1;36m2\u001b[0m\u001b[1;33m/\u001b[0m\u001b[0merrP\u001b[0m\u001b[1;33m**\u001b[0m\u001b[1;36m2\u001b[0m\u001b[1;33m)\u001b[0m\u001b[1;33m.\u001b[0m\u001b[0msum\u001b[0m\u001b[1;33m(\u001b[0m\u001b[1;33m)\u001b[0m\u001b[1;33m\u001b[0m\u001b[1;33m\u001b[0m\u001b[0m\n",
      "\u001b[1;32m<ipython-input-156-6f9b41ba69cd>\u001b[0m in \u001b[0;36m<lambda>\u001b[1;34m(tau)\u001b[0m\n\u001b[1;32m----> 1\u001b[1;33m \u001b[0mfit_tau\u001b[0m \u001b[1;33m=\u001b[0m \u001b[1;32mlambda\u001b[0m \u001b[0mtau\u001b[0m\u001b[1;33m:\u001b[0m \u001b[0mget_spectrum\u001b[0m\u001b[1;33m(\u001b[0m\u001b[0mp\u001b[0m\u001b[1;33m,\u001b[0m\u001b[0mfixed_Tau\u001b[0m\u001b[1;33m=\u001b[0m\u001b[0mtau\u001b[0m\u001b[1;33m)\u001b[0m\u001b[1;33m\u001b[0m\u001b[1;33m\u001b[0m\u001b[0m\n\u001b[0m\u001b[0;32m      2\u001b[0m \u001b[0mnew_tau\u001b[0m\u001b[1;33m,\u001b[0m \u001b[0mnew_tau_cov\u001b[0m\u001b[1;33m,\u001b[0m\u001b[0mnew_tau_error\u001b[0m \u001b[1;33m=\u001b[0m \u001b[0mnewton_Method\u001b[0m\u001b[1;33m(\u001b[0m\u001b[0mwmap\u001b[0m\u001b[1;33m[\u001b[0m\u001b[1;33m:\u001b[0m\u001b[1;33m,\u001b[0m\u001b[1;36m1\u001b[0m\u001b[1;33m]\u001b[0m\u001b[1;33m,\u001b[0m\u001b[0mfit_tau\u001b[0m\u001b[1;33m,\u001b[0m\u001b[0mnp\u001b[0m\u001b[1;33m.\u001b[0m\u001b[0masarray\u001b[0m\u001b[1;33m(\u001b[0m\u001b[1;33m[\u001b[0m\u001b[0mtau\u001b[0m\u001b[1;33m]\u001b[0m\u001b[1;33m)\u001b[0m\u001b[1;33m,\u001b[0m\u001b[0mg\u001b[0m\u001b[1;33m,\u001b[0m\u001b[0mwmap\u001b[0m\u001b[1;33m[\u001b[0m\u001b[1;33m:\u001b[0m\u001b[1;33m,\u001b[0m\u001b[1;36m2\u001b[0m\u001b[1;33m]\u001b[0m\u001b[1;33m)\u001b[0m\u001b[1;33m\u001b[0m\u001b[1;33m\u001b[0m\u001b[0m\n",
      "\u001b[1;32m<ipython-input-52-1a3117549d70>\u001b[0m in \u001b[0;36mget_spectrum\u001b[1;34m(pars, lmax, fixed_Tau)\u001b[0m\n\u001b[0;32m     18\u001b[0m     \u001b[0mpars\u001b[0m\u001b[1;33m.\u001b[0m\u001b[0mInitPower\u001b[0m\u001b[1;33m.\u001b[0m\u001b[0mset_params\u001b[0m\u001b[1;33m(\u001b[0m\u001b[0mAs\u001b[0m\u001b[1;33m=\u001b[0m\u001b[0mAs\u001b[0m\u001b[1;33m,\u001b[0m\u001b[0mns\u001b[0m\u001b[1;33m=\u001b[0m\u001b[0mns\u001b[0m\u001b[1;33m,\u001b[0m\u001b[0mr\u001b[0m\u001b[1;33m=\u001b[0m\u001b[1;36m0\u001b[0m\u001b[1;33m)\u001b[0m\u001b[1;33m\u001b[0m\u001b[1;33m\u001b[0m\u001b[0m\n\u001b[0;32m     19\u001b[0m     \u001b[0mpars\u001b[0m\u001b[1;33m.\u001b[0m\u001b[0mset_for_lmax\u001b[0m\u001b[1;33m(\u001b[0m\u001b[0mlmax\u001b[0m\u001b[1;33m,\u001b[0m\u001b[0mlens_potential_accuracy\u001b[0m\u001b[1;33m=\u001b[0m\u001b[1;36m0\u001b[0m\u001b[1;33m)\u001b[0m\u001b[1;33m\u001b[0m\u001b[1;33m\u001b[0m\u001b[0m\n\u001b[1;32m---> 20\u001b[1;33m     \u001b[0mresults\u001b[0m\u001b[1;33m=\u001b[0m\u001b[0mcamb\u001b[0m\u001b[1;33m.\u001b[0m\u001b[0mget_results\u001b[0m\u001b[1;33m(\u001b[0m\u001b[0mpars\u001b[0m\u001b[1;33m)\u001b[0m\u001b[1;33m\u001b[0m\u001b[1;33m\u001b[0m\u001b[0m\n\u001b[0m\u001b[0;32m     21\u001b[0m     \u001b[0mpowers\u001b[0m\u001b[1;33m=\u001b[0m\u001b[0mresults\u001b[0m\u001b[1;33m.\u001b[0m\u001b[0mget_cmb_power_spectra\u001b[0m\u001b[1;33m(\u001b[0m\u001b[0mpars\u001b[0m\u001b[1;33m,\u001b[0m\u001b[0mCMB_unit\u001b[0m\u001b[1;33m=\u001b[0m\u001b[1;34m'muK'\u001b[0m\u001b[1;33m)\u001b[0m\u001b[1;33m\u001b[0m\u001b[1;33m\u001b[0m\u001b[0m\n\u001b[0;32m     22\u001b[0m     \u001b[0mcmb\u001b[0m\u001b[1;33m=\u001b[0m\u001b[0mpowers\u001b[0m\u001b[1;33m[\u001b[0m\u001b[1;34m'total'\u001b[0m\u001b[1;33m]\u001b[0m\u001b[1;33m\u001b[0m\u001b[1;33m\u001b[0m\u001b[0m\n",
      "\u001b[1;32m~\\Desktop\\Fall 2019\\PHYS 512- Computational Physics\\phys512-master\\phys512-master\\problem_sets\\PHYS-512-Psets\\Pset3\\CAMB\\camb\\camb.py\u001b[0m in \u001b[0;36mget_results\u001b[1;34m(params)\u001b[0m\n\u001b[0;32m     38\u001b[0m     \u001b[0mres\u001b[0m \u001b[1;33m=\u001b[0m \u001b[0mCAMBdata\u001b[0m\u001b[1;33m(\u001b[0m\u001b[1;33m)\u001b[0m\u001b[1;33m\u001b[0m\u001b[1;33m\u001b[0m\u001b[0m\n\u001b[0;32m     39\u001b[0m     \u001b[1;32mif\u001b[0m \u001b[0m_debug_params\u001b[0m\u001b[1;33m:\u001b[0m \u001b[0mprint\u001b[0m\u001b[1;33m(\u001b[0m\u001b[0mparams\u001b[0m\u001b[1;33m)\u001b[0m\u001b[1;33m\u001b[0m\u001b[1;33m\u001b[0m\u001b[0m\n\u001b[1;32m---> 40\u001b[1;33m     \u001b[0mres\u001b[0m\u001b[1;33m.\u001b[0m\u001b[0mcalc_power_spectra\u001b[0m\u001b[1;33m(\u001b[0m\u001b[0mparams\u001b[0m\u001b[1;33m)\u001b[0m\u001b[1;33m\u001b[0m\u001b[1;33m\u001b[0m\u001b[0m\n\u001b[0m\u001b[0;32m     41\u001b[0m     \u001b[1;32mreturn\u001b[0m \u001b[0mres\u001b[0m\u001b[1;33m\u001b[0m\u001b[1;33m\u001b[0m\u001b[0m\n\u001b[0;32m     42\u001b[0m \u001b[1;33m\u001b[0m\u001b[0m\n",
      "\u001b[1;32m~\\Desktop\\Fall 2019\\PHYS 512- Computational Physics\\phys512-master\\phys512-master\\problem_sets\\PHYS-512-Psets\\Pset3\\CAMB\\camb\\results.py\u001b[0m in \u001b[0;36mcalc_power_spectra\u001b[1;34m(self, params)\u001b[0m\n\u001b[0;32m    305\u001b[0m         \"\"\"\n\u001b[0;32m    306\u001b[0m         \u001b[1;32mif\u001b[0m \u001b[0mparams\u001b[0m \u001b[1;32mis\u001b[0m \u001b[1;32mnot\u001b[0m \u001b[1;32mNone\u001b[0m\u001b[1;33m:\u001b[0m\u001b[1;33m\u001b[0m\u001b[1;33m\u001b[0m\u001b[0m\n\u001b[1;32m--> 307\u001b[1;33m             \u001b[0mself\u001b[0m\u001b[1;33m.\u001b[0m\u001b[0mcalc_transfers\u001b[0m\u001b[1;33m(\u001b[0m\u001b[0mparams\u001b[0m\u001b[1;33m,\u001b[0m \u001b[0monly_transfers\u001b[0m\u001b[1;33m=\u001b[0m\u001b[1;32mFalse\u001b[0m\u001b[1;33m)\u001b[0m\u001b[1;33m\u001b[0m\u001b[1;33m\u001b[0m\u001b[0m\n\u001b[0m\u001b[0;32m    308\u001b[0m         \u001b[1;32melse\u001b[0m\u001b[1;33m:\u001b[0m\u001b[1;33m\u001b[0m\u001b[1;33m\u001b[0m\u001b[0m\n\u001b[0;32m    309\u001b[0m             \u001b[0mself\u001b[0m\u001b[1;33m.\u001b[0m\u001b[0m_check_powers\u001b[0m\u001b[1;33m(\u001b[0m\u001b[1;33m)\u001b[0m\u001b[1;33m\u001b[0m\u001b[1;33m\u001b[0m\u001b[0m\n",
      "\u001b[1;32m~\\Desktop\\Fall 2019\\PHYS 512- Computational Physics\\phys512-master\\phys512-master\\problem_sets\\PHYS-512-Psets\\Pset3\\CAMB\\camb\\results.py\u001b[0m in \u001b[0;36mcalc_transfers\u001b[1;34m(self, params, only_transfers)\u001b[0m\n\u001b[0;32m    288\u001b[0m         \u001b[1;32mif\u001b[0m \u001b[1;32mnot\u001b[0m \u001b[0monly_transfers\u001b[0m\u001b[1;33m:\u001b[0m \u001b[0mself\u001b[0m\u001b[1;33m.\u001b[0m\u001b[0m_check_powers\u001b[0m\u001b[1;33m(\u001b[0m\u001b[0mparams\u001b[0m\u001b[1;33m)\u001b[0m\u001b[1;33m\u001b[0m\u001b[1;33m\u001b[0m\u001b[0m\n\u001b[0;32m    289\u001b[0m         \u001b[1;32mif\u001b[0m \u001b[0mCAMBdata_gettransfers\u001b[0m\u001b[1;33m(\u001b[0m\u001b[0mbyref\u001b[0m\u001b[1;33m(\u001b[0m\u001b[0mself\u001b[0m\u001b[1;33m)\u001b[0m\u001b[1;33m,\u001b[0m \u001b[0mbyref\u001b[0m\u001b[1;33m(\u001b[0m\u001b[0mparams\u001b[0m\u001b[1;33m)\u001b[0m\u001b[1;33m,\u001b[0m \u001b[0mbyref\u001b[0m\u001b[1;33m(\u001b[0m\u001b[0mc_int\u001b[0m\u001b[1;33m(\u001b[0m\u001b[1;36m1\u001b[0m \u001b[1;32mif\u001b[0m \u001b[0monly_transfers\u001b[0m \u001b[1;32melse\u001b[0m \u001b[1;36m0\u001b[0m\u001b[1;33m)\u001b[0m\u001b[1;33m)\u001b[0m\u001b[1;33m)\u001b[0m\u001b[1;33m:\u001b[0m\u001b[1;33m\u001b[0m\u001b[1;33m\u001b[0m\u001b[0m\n\u001b[1;32m--> 290\u001b[1;33m             \u001b[0mconfig\u001b[0m\u001b[1;33m.\u001b[0m\u001b[0mcheck_global_error\u001b[0m\u001b[1;33m(\u001b[0m\u001b[1;34m'calc_transfer'\u001b[0m\u001b[1;33m)\u001b[0m\u001b[1;33m\u001b[0m\u001b[1;33m\u001b[0m\u001b[0m\n\u001b[0m\u001b[0;32m    291\u001b[0m \u001b[1;33m\u001b[0m\u001b[0m\n\u001b[0;32m    292\u001b[0m     \u001b[1;32mdef\u001b[0m \u001b[0m_check_powers\u001b[0m\u001b[1;33m(\u001b[0m\u001b[0mself\u001b[0m\u001b[1;33m,\u001b[0m \u001b[0mparams\u001b[0m\u001b[1;33m=\u001b[0m\u001b[1;32mNone\u001b[0m\u001b[1;33m)\u001b[0m\u001b[1;33m:\u001b[0m\u001b[1;33m\u001b[0m\u001b[1;33m\u001b[0m\u001b[0m\n",
      "\u001b[1;32m~\\Desktop\\Fall 2019\\PHYS 512- Computational Physics\\phys512-master\\phys512-master\\problem_sets\\PHYS-512-Psets\\Pset3\\CAMB\\camb\\_config.py\u001b[0m in \u001b[0;36mcheck_global_error\u001b[1;34m(self, reference)\u001b[0m\n\u001b[0;32m     47\u001b[0m                 \u001b[0mreference\u001b[0m \u001b[1;33m=\u001b[0m \u001b[1;34m''\u001b[0m\u001b[1;33m\u001b[0m\u001b[1;33m\u001b[0m\u001b[0m\n\u001b[0;32m     48\u001b[0m             \u001b[1;32mif\u001b[0m \u001b[0merr\u001b[0m\u001b[1;33m:\u001b[0m\u001b[1;33m\u001b[0m\u001b[1;33m\u001b[0m\u001b[0m\n\u001b[1;32m---> 49\u001b[1;33m                 \u001b[1;32mraise\u001b[0m \u001b[0mCAMBError\u001b[0m\u001b[1;33m(\u001b[0m\u001b[0mreference\u001b[0m \u001b[1;33m+\u001b[0m \u001b[1;34m'%s'\u001b[0m \u001b[1;33m%\u001b[0m \u001b[0merr\u001b[0m\u001b[1;33m)\u001b[0m\u001b[1;33m\u001b[0m\u001b[1;33m\u001b[0m\u001b[0m\n\u001b[0m\u001b[0;32m     50\u001b[0m             \u001b[1;32melse\u001b[0m\u001b[1;33m:\u001b[0m\u001b[1;33m\u001b[0m\u001b[1;33m\u001b[0m\u001b[0m\n\u001b[0;32m     51\u001b[0m                 \u001b[1;32mraise\u001b[0m \u001b[0mCAMBError\u001b[0m\u001b[1;33m(\u001b[0m\u001b[0mreference\u001b[0m \u001b[1;33m+\u001b[0m \u001b[1;34m'Error code: %s'\u001b[0m \u001b[1;33m%\u001b[0m \u001b[0mcode\u001b[0m\u001b[1;33m)\u001b[0m\u001b[1;33m\u001b[0m\u001b[1;33m\u001b[0m\u001b[0m\n",
      "\u001b[1;31mCAMBError\u001b[0m: Error in Fortran called from calc_transfer:\nReionization did not converge to optical depth"
     ]
    }
   ],
   "source": [
    "fit_tau = lambda tau: get_spectrum(p,fixed_Tau=tau)\n",
    "new_tau, new_tau_cov,new_tau_error = newton_Method(wmap[:,1],fit_tau,np.asarray([tau]),g,wmap[:,2])\n"
   ]
  },
  {
   "cell_type": "code",
   "execution_count": null,
   "metadata": {},
   "outputs": [],
   "source": []
  }
 ],
 "metadata": {
  "kernelspec": {
   "display_name": "Python 3",
   "language": "python",
   "name": "python3"
  },
  "language_info": {
   "codemirror_mode": {
    "name": "ipython",
    "version": 3
   },
   "file_extension": ".py",
   "mimetype": "text/x-python",
   "name": "python",
   "nbconvert_exporter": "python",
   "pygments_lexer": "ipython3",
   "version": "3.7.1"
  }
 },
 "nbformat": 4,
 "nbformat_minor": 2
}
