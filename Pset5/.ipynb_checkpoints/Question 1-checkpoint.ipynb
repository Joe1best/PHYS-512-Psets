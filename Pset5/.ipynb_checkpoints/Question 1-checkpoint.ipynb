{
 "cells": [
  {
   "cell_type": "code",
   "execution_count": 327,
   "metadata": {},
   "outputs": [],
   "source": [
    "import numpy as np \n",
    "import matplotlib.pyplot as plt\n",
    "import scipy.constants as const"
   ]
  },
  {
   "cell_type": "code",
   "execution_count": 326,
   "metadata": {},
   "outputs": [],
   "source": [
    "def true_V():\n",
    "    \n",
    "    return 0"
   ]
  },
  {
   "cell_type": "code",
   "execution_count": 363,
   "metadata": {},
   "outputs": [
    {
     "name": "stdout",
     "output_type": "stream",
     "text": [
      "Things ain't changing that much. We stopped at the 2658th iteration\n"
     ]
    },
    {
     "data": {
      "image/png": "[encoded data removed]",
      "text/plain": [
       "<Figure size 432x288 with 1 Axes>"
      ]
     },
     "metadata": {
      "needs_background": "light"
     },
     "output_type": "display_data"
    }
   ],
   "source": [
    "n = 100\n",
    "R = 25\n",
    "L = 10\n",
    "pot = 5\n",
    "maxIter = 10000\n",
    "midSlice = n//2\n",
    "thresh = 1e-3\n",
    "\n",
    "lamb = 2*np.pi*const.epsilon_0*R**2\n",
    "#Does the masking and initializes the boundary conditions\n",
    "s = np.linspace(0,n,n)\n",
    "\n",
    "V = np.zeros([n,n,n])\n",
    "bc = 0*V \n",
    "\n",
    "mask = np.zeros([n,n,n],dtype='bool')\n",
    "mask[0,:] = True\n",
    "mask[-1,:] = True\n",
    "mask[:,0] = True\n",
    "mask[:,-1] = True\n",
    "mask[:,:,0] = True\n",
    "mask[:,:,-1] = True\n",
    "\n",
    "center_x, center_y = n//2,n//2\n",
    "x,y = np.meshgrid(s,s)\n",
    "\n",
    "cond = (x-center_x)**2+(y-center_y)**2 <= R**2\n",
    "mask[:,cond] = True\n",
    "bc[:,cond] = pot\n",
    "V_temp = np.zeros(V.shape)\n",
    "\n",
    "\n",
    "plt.imshow(bc[midSlice])   \n",
    "V = bc.copy()\n",
    "\n",
    "for i in range(maxIter):\n",
    "    #take_step(V_temp,bc,mask)\n",
    "    V_temp[1:-1,1:-1,1:-1] = (V[0:-2,1:-1,1:-1]+V[2:,1:-1,1:-1]+V[1:-1,0:-2,1:-1]+V[1:-1,2:,1:-1]+V[1:-1,1:-1,0:-2]+V[1:-1,1:-1,2:])/6.0\n",
    "    V_temp[mask] = bc[mask]\n",
    "    diff = np.sum(np.abs(V-V_temp))/n**2\n",
    "    #print (diff)\n",
    "    if diff < thresh:\n",
    "        print (f\"Things ain't changing that much. We stopped at the {i}th iteration\")\n",
    "        break\n",
    "    V[:,:,:] = V_temp[:,:,:] "
   ]
  },
  {
   "cell_type": "code",
   "execution_count": 366,
   "metadata": {},
   "outputs": [],
   "source": [
    "for j in range(n):\n",
    "    np.savetxt(f\"Voltage_slice_{j}.csv\",V[j],delimiter=',')"
   ]
  },
  {
   "cell_type": "code",
   "execution_count": 360,
   "metadata": {},
   "outputs": [
    {
     "data": {
      "image/png": "[encoded data removed]",
      "text/plain": [
       "<Figure size 432x288 with 1 Axes>"
      ]
     },
     "metadata": {
      "needs_background": "light"
     },
     "output_type": "display_data"
    }
   ],
   "source": [
    "plt.imshow(V[50])\n",
    "plt.show()"
   ]
  },
  {
   "cell_type": "code",
   "execution_count": null,
   "metadata": {},
   "outputs": [],
   "source": []
  },
  {
   "cell_type": "code",
   "execution_count": 138,
   "metadata": {},
   "outputs": [
    {
     "name": "stdout",
     "output_type": "stream",
     "text": [
      "[0. 0. 0. 0. 0. 0. 0. 0. 0. 0. 0. 0. 0. 0. 0. 0. 0. 0. 0. 0. 0. 0. 0. 0.]\n",
      "[0. 0. 0. 0. 0. 0. 0. 0. 0. 0. 0. 0. 0. 0. 0. 0. 0. 0. 0. 0. 0. 0. 0. 0.]\n",
      "[0. 0. 0. 0. 0. 0. 0. 0. 0. 0. 0. 0. 0. 0. 0. 0. 0. 0. 0. 0. 0. 0. 0. 0.]\n",
      "[0. 0. 0. 0. 0. 0. 0. 0. 0. 0. 0. 0. 0. 0. 0. 0. 0. 0. 0. 0. 0. 0. 0. 0.]\n",
      "[0. 0. 0. 0. 0. 0. 0. 0. 0. 0. 0. 0. 0. 0. 0. 0. 0. 0. 0. 0. 0. 0. 0. 0.]\n",
      "[0. 0. 0. 0. 0. 0. 0. 0. 0. 0. 0. 0. 0. 0. 0. 0. 0. 0. 0. 0. 0. 0. 0. 0.]\n",
      "[0. 0. 0. 0. 0. 0. 0. 0. 0. 0. 0. 0. 0. 0. 0. 0. 0. 0. 0. 0. 0. 0. 0. 0.]\n",
      "[0. 0. 0. 0. 0. 0. 0. 0. 0. 0. 0. 0. 0. 0. 0. 0. 0. 0. 0. 0. 0. 0. 0. 0.]\n",
      "[0. 0. 0. 0. 0. 0. 0. 0. 0. 0. 0. 0. 0. 0. 0. 0. 0. 0. 0. 0. 0. 0. 0. 0.]\n",
      "[0. 0. 0. 0. 0. 0. 0. 0. 0. 0. 0. 1. 0. 0. 0. 0. 0. 0. 0. 0. 0. 0. 0. 0.]\n",
      "[0. 0. 0. 0. 0. 0. 0. 0. 0. 0. 1. 1. 1. 0. 0. 0. 0. 0. 0. 0. 0. 0. 0. 0.]\n",
      "[0. 0. 0. 0. 0. 0. 0. 0. 0. 1. 1. 1. 1. 1. 0. 0. 0. 0. 0. 0. 0. 0. 0. 0.]\n",
      "[0. 0. 0. 0. 0. 0. 0. 0. 0. 0. 1. 1. 1. 0. 0. 0. 0. 0. 0. 0. 0. 0. 0. 0.]\n",
      "[0. 0. 0. 0. 0. 0. 0. 0. 0. 0. 0. 1. 0. 0. 0. 0. 0. 0. 0. 0. 0. 0. 0. 0.]\n",
      "[0. 0. 0. 0. 0. 0. 0. 0. 0. 0. 0. 0. 0. 0. 0. 0. 0. 0. 0. 0. 0. 0. 0. 0.]\n",
      "[0. 0. 0. 0. 0. 0. 0. 0. 0. 0. 0. 0. 0. 0. 0. 0. 0. 0. 0. 0. 0. 0. 0. 0.]\n",
      "[0. 0. 0. 0. 0. 0. 0. 0. 0. 0. 0. 0. 0. 0. 0. 0. 0. 0. 0. 0. 0. 0. 0. 0.]\n",
      "[0. 0. 0. 0. 0. 0. 0. 0. 0. 0. 0. 0. 0. 0. 0. 0. 0. 0. 0. 0. 0. 0. 0. 0.]\n",
      "[0. 0. 0. 0. 0. 0. 0. 0. 0. 0. 0. 0. 0. 0. 0. 0. 0. 0. 0. 0. 0. 0. 0. 0.]\n",
      "[0. 0. 0. 0. 0. 0. 0. 0. 0. 0. 0. 0. 0. 0. 0. 0. 0. 0. 0. 0. 0. 0. 0. 0.]\n",
      "[0. 0. 0. 0. 0. 0. 0. 0. 0. 0. 0. 0. 0. 0. 0. 0. 0. 0. 0. 0. 0. 0. 0. 0.]\n",
      "[0. 0. 0. 0. 0. 0. 0. 0. 0. 0. 0. 0. 0. 0. 0. 0. 0. 0. 0. 0. 0. 0. 0. 0.]\n",
      "[0. 0. 0. 0. 0. 0. 0. 0. 0. 0. 0. 0. 0. 0. 0. 0. 0. 0. 0. 0. 0. 0. 0. 0.]\n",
      "[0. 0. 0. 0. 0. 0. 0. 0. 0. 0. 0. 0. 0. 0. 0. 0. 0. 0. 0. 0. 0. 0. 0. 0.]\n"
     ]
    }
   ],
   "source": [
    "mask = np.zeros([n,n])\n",
    "#mask[n//4:n//2,n//4:n//2] = True\n",
    "#mask[n//4:n//2,n//2:(3*n)//4]=True\n",
    "R = 3\n",
    "def findCircle(a,R,place):\n",
    "    n = len(a)\n",
    "    for i in range(n):\n",
    "        for j in range(n):\n",
    "            if (i-(n-1)//2)**2+(j-(n-1)//2)**2==(R-1)**2 and place == 'lateral':\n",
    "                a[i][j] = 1\n",
    "            elif (i-(n-1)//2)**2+(j-(n-1)//2)**2<=(R-1)**2 and place == 'top':\n",
    "                a[i][j] = 1\n",
    "    return a\n",
    "\n",
    "mask =findCircle(mask,R,'top')\n",
    "\n",
    "\n",
    "\n",
    "\n",
    "#mask[x,y]=2\n",
    "\n",
    "#mask[min(x):max(x)+1,min(y):max(y)+1] = 1\n",
    "\n",
    "\n",
    "#mask\n",
    "\n",
    "#bc[n//4:n//2,n//4:n//2]=1.0\n",
    "#f = open(\"slice.txt\",\"w+\")\n",
    "#print (mask[0])\n",
    "for m in range(len(mask)): \n",
    "#    string = str(mask[m]) + \"\\n\"\n",
    "#    f.write(string)\n",
    "    print (mask[m])\n",
    "#f.close()\n",
    "#print (mask)"
   ]
  },
  {
   "cell_type": "code",
   "execution_count": null,
   "metadata": {},
   "outputs": [],
   "source": []
  },
  {
   "cell_type": "code",
   "execution_count": null,
   "metadata": {},
   "outputs": [],
   "source": []
  }
 ],
 "metadata": {
  "kernelspec": {
   "display_name": "Python 3",
   "language": "python",
   "name": "python3"
  },
  "language_info": {
   "codemirror_mode": {
    "name": "ipython",
    "version": 3
   },
   "file_extension": ".py",
   "mimetype": "text/x-python",
   "name": "python",
   "nbconvert_exporter": "python",
   "pygments_lexer": "ipython3",
   "version": "3.7.1"
  }
 },
 "nbformat": 4,
 "nbformat_minor": 2
}
